{
 "cells": [
  {
   "cell_type": "code",
   "execution_count": 1,
   "id": "a6a1aa69-d5b5-4f04-9b5a-650048a3b7f7",
   "metadata": {},
   "outputs": [
    {
     "data": {
      "text/markdown": [
       "This notebook has been executed using the docker image `colomoto/colomoto-docker:2025-03-01`"
      ],
      "text/plain": [
       "<IPython.core.display.Markdown object>"
      ]
     },
     "metadata": {},
     "output_type": "display_data"
    }
   ],
   "source": [
    "import ginsim \n",
    "import biolqm\n",
    "import boolsim\n",
    "import pandas as pd\n",
    "from colomoto_jupyter import tabulate\n",
    "from colomoto.minibn import BooleanNetwork\n",
    "from colomoto.temporal_logics import *"
   ]
  },
  {
   "cell_type": "markdown",
   "id": "98d5db6d-8f7a-4471-94e0-390a5b53d35e",
   "metadata": {},
   "source": [
    "## boolsim"
   ]
  },
  {
   "cell_type": "code",
   "execution_count": 80,
   "id": "0ea882cb-7194-4567-9462-c932b77d22b2",
   "metadata": {},
   "outputs": [],
   "source": [
    "## Define network\n",
    "# network = {\n",
    "#     \"ATM\": \"!Wip1\",\n",
    "#     \"Chk2\": \"ATM & !Wip1\",\n",
    "#     \"Mdm2\": \"p53\",\n",
    "#     \"p53\": \"(ATM | Chk2) & !Mdm2\",\n",
    "#     \"Wip1\": \"p53\"\n",
    "# }\n",
    "network = { \n",
    "    \"x\" : \"x|y\", \n",
    "    \"y\" : \"y\"}\n",
    "# network = { \n",
    "#     \"x\" : \"!z\",\n",
    "#     \"y\" : \"!x\",\n",
    "#     \"z\" : \"!y\"}\n",
    "bn = BooleanNetwork(network)"
   ]
  },
  {
   "cell_type": "code",
   "execution_count": 81,
   "id": "be64c05a-1660-4827-ae36-312761ed25b8",
   "metadata": {
    "scrolled": true
   },
   "outputs": [
    {
     "name": "stdout",
     "output_type": "stream",
     "text": [
      "CPU times: user 7.24 ms, sys: 8.47 ms, total: 15.7 ms\n",
      "Wall time: 64.6 ms\n"
     ]
    },
    {
     "data": {
      "text/html": [
       "<div>\n",
       "<style scoped>\n",
       "    .dataframe tbody tr th:only-of-type {\n",
       "        vertical-align: middle;\n",
       "    }\n",
       "\n",
       "    .dataframe tbody tr th {\n",
       "        vertical-align: top;\n",
       "    }\n",
       "\n",
       "    .dataframe thead th {\n",
       "        text-align: right;\n",
       "    }\n",
       "</style>\n",
       "<table border=\"1\" class=\"dataframe\">\n",
       "  <thead>\n",
       "    <tr style=\"text-align: right;\">\n",
       "      <th></th>\n",
       "      <th>x</th>\n",
       "      <th>y</th>\n",
       "    </tr>\n",
       "  </thead>\n",
       "  <tbody>\n",
       "    <tr>\n",
       "      <th>1</th>\n",
       "      <td>0</td>\n",
       "      <td>0</td>\n",
       "    </tr>\n",
       "    <tr>\n",
       "      <th>2</th>\n",
       "      <td>1</td>\n",
       "      <td>0</td>\n",
       "    </tr>\n",
       "    <tr>\n",
       "      <th>0</th>\n",
       "      <td>1</td>\n",
       "      <td>1</td>\n",
       "    </tr>\n",
       "  </tbody>\n",
       "</table>\n",
       "</div>"
      ],
      "text/plain": [
       "   x  y\n",
       "1  0  0\n",
       "2  1  0\n",
       "0  1  1"
      ]
     },
     "execution_count": 81,
     "metadata": {},
     "output_type": "execute_result"
    }
   ],
   "source": [
    "## Tabulate the attractors using boolsim\n",
    "%time A = boolsim.attractors(bn)\n",
    "tabulate(A)"
   ]
  },
  {
   "cell_type": "code",
   "execution_count": 49,
   "id": "2f2335ec-3816-49e5-8878-eca6abafc6ba",
   "metadata": {},
   "outputs": [
    {
     "name": "stdout",
     "output_type": "stream",
     "text": [
      "{'x': 0, 'y': 1}\n",
      "{'x': 1, 'y': 0}\n"
     ]
    }
   ],
   "source": [
    "## Print attractors. The asterisk means \"complex\" attractors \n",
    "for att in A:\n",
    "    print(att)"
   ]
  },
  {
   "cell_type": "markdown",
   "id": "4b00b422-87c3-4ec6-b7d6-568e91717353",
   "metadata": {},
   "source": [
    "# bioLQM "
   ]
  },
  {
   "cell_type": "code",
   "execution_count": 50,
   "id": "707ba055-380a-4796-bd7a-cff5d6fb0134",
   "metadata": {},
   "outputs": [],
   "source": [
    "## Convert from boolsim to biolqm\n",
    "lqm = bn.to_biolqm()"
   ]
  },
  {
   "cell_type": "code",
   "execution_count": 51,
   "id": "02ad20dc-c67a-4b40-9d81-1c9f783b004a",
   "metadata": {},
   "outputs": [
    {
     "data": {
      "text/plain": [
       "'network.net'"
      ]
     },
     "execution_count": 51,
     "metadata": {},
     "output_type": "execute_result"
    }
   ],
   "source": [
    "## Save for future reference\n",
    "biolqm.save(lqm, \"network.net\", \"boolsim\")"
   ]
  },
  {
   "cell_type": "code",
   "execution_count": 52,
   "id": "c61c8d1c-8a91-4c53-84f4-c3967f548c8a",
   "metadata": {},
   "outputs": [
    {
     "name": "stdout",
     "output_type": "stream",
     "text": [
      "# computing graph layout...\n"
     ]
    },
    {
     "data": {
      "text/html": [
       "<?xml version=\"1.0\" encoding=\"UTF-8\" standalone=\"no\"?>\n",
       "<!DOCTYPE svg PUBLIC \"-//W3C//DTD SVG 1.1//EN\"\n",
       " \"http://www.w3.org/Graphics/SVG/1.1/DTD/svg11.dtd\">\n",
       "<!-- Generated by graphviz version 12.2.1 (20250203.1708)\n",
       " -->\n",
       "<!-- Pages: 1 -->\n",
       "<svg width=\"62pt\" height=\"133pt\"\n",
       " viewBox=\"0.00 0.00 62.00 133.25\" xmlns=\"http://www.w3.org/2000/svg\" xmlns:xlink=\"http://www.w3.org/1999/xlink\">\n",
       "<g id=\"graph0\" class=\"graph\" transform=\"scale(1 1) rotate(0) translate(4 129.25)\">\n",
       "<polygon fill=\"white\" stroke=\"none\" points=\"-4,4 -4,-129.25 58,-129.25 58,4 -4,4\"/>\n",
       "<!-- y -->\n",
       "<g id=\"node1\" class=\"node\">\n",
       "<title>y</title>\n",
       "<ellipse fill=\"none\" stroke=\"black\" cx=\"27\" cy=\"-107.25\" rx=\"27\" ry=\"18\"/>\n",
       "<text text-anchor=\"middle\" x=\"27\" y=\"-102.58\" font-family=\"Times,serif\" font-size=\"14.00\">y</text>\n",
       "</g>\n",
       "<!-- x -->\n",
       "<g id=\"node2\" class=\"node\">\n",
       "<title>x</title>\n",
       "<ellipse fill=\"none\" stroke=\"black\" cx=\"27\" cy=\"-18\" rx=\"27\" ry=\"18\"/>\n",
       "<text text-anchor=\"middle\" x=\"27\" y=\"-13.32\" font-family=\"Times,serif\" font-size=\"14.00\">x</text>\n",
       "</g>\n",
       "<!-- y&#45;&gt;x -->\n",
       "<g id=\"edge1\" class=\"edge\">\n",
       "<title>y&#45;&gt;x</title>\n",
       "<path fill=\"none\" stroke=\"black\" d=\"M22.03,-89.31C20.59,-83.62 19.21,-77.21 18.5,-71.25 17.59,-63.64 17.59,-61.61 18.5,-54 18.77,-51.76 19.13,-49.47 19.55,-47.17\"/>\n",
       "<polygon fill=\"black\" stroke=\"black\" points=\"22.96,-47.94 21.7,-37.42 16.13,-46.43 22.96,-47.94\"/>\n",
       "<text text-anchor=\"middle\" x=\"20.75\" y=\"-57.95\" font-family=\"Times,serif\" font-size=\"14.00\">&#45;</text>\n",
       "</g>\n",
       "<!-- x&#45;&gt;y -->\n",
       "<g id=\"edge2\" class=\"edge\">\n",
       "<title>x&#45;&gt;y</title>\n",
       "<path fill=\"none\" stroke=\"black\" d=\"M27,-36.2C27,-48.02 27,-64 27,-77.71\"/>\n",
       "<polygon fill=\"black\" stroke=\"black\" points=\"23.5,-77.5 27,-87.5 30.5,-77.5 23.5,-77.5\"/>\n",
       "<text text-anchor=\"middle\" x=\"29.25\" y=\"-57.95\" font-family=\"Times,serif\" font-size=\"14.00\">&#45;</text>\n",
       "</g>\n",
       "</g>\n",
       "</svg>\n"
      ],
      "text/plain": [
       "<networkx.classes.multidigraph.MultiDiGraph at 0x7fffc8cb7b90>"
      ]
     },
     "execution_count": 52,
     "metadata": {},
     "output_type": "execute_result"
    }
   ],
   "source": [
    "# Influence graph from biolqm\n",
    "biolqm.influence_graph(lqm)"
   ]
  },
  {
   "cell_type": "markdown",
   "id": "5ccb8982-f65b-4cd0-be11-6e3275e04407",
   "metadata": {},
   "source": [
    "### Identification of stable states (fixed points)"
   ]
  },
  {
   "cell_type": "code",
   "execution_count": 53,
   "id": "8529af5c-0f32-4eb0-b7a1-e93dde1558a8",
   "metadata": {},
   "outputs": [
    {
     "data": {
      "text/html": [
       "<div>\n",
       "<style scoped>\n",
       "    .dataframe tbody tr th:only-of-type {\n",
       "        vertical-align: middle;\n",
       "    }\n",
       "\n",
       "    .dataframe tbody tr th {\n",
       "        vertical-align: top;\n",
       "    }\n",
       "\n",
       "    .dataframe thead th {\n",
       "        text-align: right;\n",
       "    }\n",
       "</style>\n",
       "<table border=\"1\" class=\"dataframe\">\n",
       "  <thead>\n",
       "    <tr style=\"text-align: right;\">\n",
       "      <th></th>\n",
       "      <th>x</th>\n",
       "      <th>y</th>\n",
       "    </tr>\n",
       "  </thead>\n",
       "  <tbody>\n",
       "    <tr>\n",
       "      <th>0</th>\n",
       "      <td>0</td>\n",
       "      <td>1</td>\n",
       "    </tr>\n",
       "    <tr>\n",
       "      <th>1</th>\n",
       "      <td>1</td>\n",
       "      <td>0</td>\n",
       "    </tr>\n",
       "  </tbody>\n",
       "</table>\n",
       "</div>"
      ],
      "text/plain": [
       "   x  y\n",
       "0  0  1\n",
       "1  1  0"
      ]
     },
     "execution_count": 53,
     "metadata": {},
     "output_type": "execute_result"
    }
   ],
   "source": [
    "fps = biolqm.fixpoints(lqm)\n",
    "pd.DataFrame(fps)"
   ]
  },
  {
   "cell_type": "markdown",
   "id": "2c720d79-e672-4339-8753-f56e3cca763b",
   "metadata": {},
   "source": [
    "### Identification of stable motifs (trapspaces)\n",
    "\n",
    "A stable motif (also called symbolic steady state) is a partially assigned state such that all possible successors of all states which belong to the motif also belong to the motif. "
   ]
  },
  {
   "cell_type": "code",
   "execution_count": 54,
   "id": "a0cddd27-5506-467a-a16d-218c2384cb18",
   "metadata": {},
   "outputs": [
    {
     "data": {
      "text/html": [
       "<div>\n",
       "<style scoped>\n",
       "    .dataframe tbody tr th:only-of-type {\n",
       "        vertical-align: middle;\n",
       "    }\n",
       "\n",
       "    .dataframe tbody tr th {\n",
       "        vertical-align: top;\n",
       "    }\n",
       "\n",
       "    .dataframe thead th {\n",
       "        text-align: right;\n",
       "    }\n",
       "</style>\n",
       "<table border=\"1\" class=\"dataframe\">\n",
       "  <thead>\n",
       "    <tr style=\"text-align: right;\">\n",
       "      <th></th>\n",
       "      <th>x</th>\n",
       "      <th>y</th>\n",
       "    </tr>\n",
       "  </thead>\n",
       "  <tbody>\n",
       "    <tr>\n",
       "      <th>0</th>\n",
       "      <td>1</td>\n",
       "      <td>0</td>\n",
       "    </tr>\n",
       "    <tr>\n",
       "      <th>1</th>\n",
       "      <td>0</td>\n",
       "      <td>1</td>\n",
       "    </tr>\n",
       "  </tbody>\n",
       "</table>\n",
       "</div>"
      ],
      "text/plain": [
       "   x  y\n",
       "0  1  0\n",
       "1  0  1"
      ]
     },
     "execution_count": 54,
     "metadata": {},
     "output_type": "execute_result"
    }
   ],
   "source": [
    "traps = biolqm.trapspace(lqm)\n",
    "pd.DataFrame(traps)"
   ]
  },
  {
   "cell_type": "markdown",
   "id": "1c2b7077-faf7-43f0-9945-e48e43a2b378",
   "metadata": {},
   "source": [
    "### Stable (states?)"
   ]
  },
  {
   "cell_type": "code",
   "execution_count": 55,
   "id": "bf73d74b-6f76-4342-b414-54b4e9af9be1",
   "metadata": {},
   "outputs": [
    {
     "name": "stdout",
     "output_type": "stream",
     "text": [
      "[{'x': 0, 'y': 1}, {'x': 1, 'y': 0}]\n"
     ]
    }
   ],
   "source": [
    "states = biolqm.stable(lqm)\n",
    "print(states)"
   ]
  },
  {
   "cell_type": "markdown",
   "id": "84c3deaa-3693-4588-a421-eb459b1f6683",
   "metadata": {},
   "source": [
    "There are some funcionalities regarding \"simulation\" of deterministic paths (and non-deterministic by doing random walks)."
   ]
  },
  {
   "cell_type": "markdown",
   "id": "0741a3dd-ebb0-4a20-9742-c3353a2f69d1",
   "metadata": {},
   "source": [
    "### Model perturbation\n",
    "\n",
    "the biolqm.perturbation function enables the construction of a variant of the model, where the logical function of one (or several) component has been modified. A textual parameter describes the modification:\n",
    "\n",
    "component%0 defines a knockout of a component\n",
    "\n",
    "component%1 defines an ectopic expression\n",
    "\n",
    "component%1:2 restricts the range of values for multi-valued components\n",
    "regulator:component%0 allows to remove a regulator"
   ]
  },
  {
   "cell_type": "code",
   "execution_count": 56,
   "id": "3fcad6c0-926d-449a-bdcf-6108d879ea11",
   "metadata": {},
   "outputs": [],
   "source": [
    "# pert = biolqm.perturbation(lqm, \"ATM%1\")\n",
    "pert = biolqm.perturbation(lqm, \"y%1\")"
   ]
  },
  {
   "cell_type": "code",
   "execution_count": 57,
   "id": "e56f013c-f0eb-420b-9705-be065907fe99",
   "metadata": {},
   "outputs": [
    {
     "data": {
      "text/html": [
       "<div>\n",
       "<style scoped>\n",
       "    .dataframe tbody tr th:only-of-type {\n",
       "        vertical-align: middle;\n",
       "    }\n",
       "\n",
       "    .dataframe tbody tr th {\n",
       "        vertical-align: top;\n",
       "    }\n",
       "\n",
       "    .dataframe thead th {\n",
       "        text-align: right;\n",
       "    }\n",
       "</style>\n",
       "<table border=\"1\" class=\"dataframe\">\n",
       "  <thead>\n",
       "    <tr style=\"text-align: right;\">\n",
       "      <th></th>\n",
       "      <th>x</th>\n",
       "      <th>y</th>\n",
       "    </tr>\n",
       "  </thead>\n",
       "  <tbody>\n",
       "    <tr>\n",
       "      <th>0</th>\n",
       "      <td>0</td>\n",
       "      <td>1</td>\n",
       "    </tr>\n",
       "  </tbody>\n",
       "</table>\n",
       "</div>"
      ],
      "text/plain": [
       "   x  y\n",
       "0  0  1"
      ]
     },
     "execution_count": 57,
     "metadata": {},
     "output_type": "execute_result"
    }
   ],
   "source": [
    "fps = biolqm.fixpoints(pert)\n",
    "pd.DataFrame(fps)"
   ]
  },
  {
   "cell_type": "code",
   "execution_count": 58,
   "id": "33474f57-a9df-435d-9279-94a25ee64ccc",
   "metadata": {},
   "outputs": [
    {
     "data": {
      "text/html": [
       "<div>\n",
       "<style scoped>\n",
       "    .dataframe tbody tr th:only-of-type {\n",
       "        vertical-align: middle;\n",
       "    }\n",
       "\n",
       "    .dataframe tbody tr th {\n",
       "        vertical-align: top;\n",
       "    }\n",
       "\n",
       "    .dataframe thead th {\n",
       "        text-align: right;\n",
       "    }\n",
       "</style>\n",
       "<table border=\"1\" class=\"dataframe\">\n",
       "  <thead>\n",
       "    <tr style=\"text-align: right;\">\n",
       "      <th></th>\n",
       "      <th>x</th>\n",
       "      <th>y</th>\n",
       "    </tr>\n",
       "  </thead>\n",
       "  <tbody>\n",
       "    <tr>\n",
       "      <th>0</th>\n",
       "      <td>0</td>\n",
       "      <td>1</td>\n",
       "    </tr>\n",
       "  </tbody>\n",
       "</table>\n",
       "</div>"
      ],
      "text/plain": [
       "   x  y\n",
       "0  0  1"
      ]
     },
     "execution_count": 58,
     "metadata": {},
     "output_type": "execute_result"
    }
   ],
   "source": [
    "traps = biolqm.trapspace(pert, \"terminal\")\n",
    "pd.DataFrame(traps)"
   ]
  },
  {
   "cell_type": "markdown",
   "id": "9f0c6880-6833-49fc-bea0-7db0957f720b",
   "metadata": {},
   "source": [
    "# GINsim"
   ]
  },
  {
   "cell_type": "code",
   "execution_count": 59,
   "id": "2766dbe2-f577-42af-b4a5-647ef3e2ecdb",
   "metadata": {},
   "outputs": [
    {
     "data": {
      "text/html": [
       "<img class=\"unconfined\" width=\"200px\" src=\"data:image/svg+xml;base64,PD94bWwgdmVyc2lvbj0iMS4wIiBlbmNvZGluZz0iVVRGLTgiPz4KPCFET0NUWVBFIHN2ZyBQVUJMSUMgIi0vL1czQy8vRFREIFNWRyAyMDAwMTEwMi8vRU4iICJodHRwOi8vd3d3LnczLm9yZy9UUi8yMDAwL0NSLVNWRy0yMDAwMTEwMi9EVEQvc3ZnLTIwMDAxMTAyLmR0ZCI+Cjxzdmcgd2lkdGg9IjIwMC4wIiBoZWlnaHQ9IjczLjAiIHhtbG5zPSJodHRwOi8vd3d3LnczLm9yZy8yMDAwL3N2ZyIgdmVyc2lvbj0iMS4xIj4KICA8c3R5bGUgdHlwZT0idGV4dC9jc3MiPgp0ZXh0IHsKICBmb250LWZhbWlseTogJ1NhbnNTZXJpZic7CiAgZm9udC1zaXplOiAxMnB4Owp9Ci5ub2RlIC5zaGFwZSB7CmZpbGw6ICNmZmZmZmY7CnN0cm9rZTogIzAwMDAwMDsKfQoubm9kZSB0ZXh0IHsKZmlsbDogIzAwMDAwMDsKfQouZWRnZSB7CnN0cm9rZTogIzAwMDAwMDsKZmlsbDogbm9uZTsKc3Ryb2tlLXdpZHRoOiAxOwp9Ci5lZGdlX1BPU0lUSVZFIHsKc3Ryb2tlOiAjMDBjODAwOwp9Ci5lZGdlX05FR0FUSVZFIHsKc3Ryb2tlOiAjYzgwMDAwOwp9Ci5lZGdlX0RVQUwgewpzdHJva2U6ICMwMDAwYzg7Cn0KPC9zdHlsZT4KICA8ZGVmcz4KICAgIDxtYXJrZXIgaWQ9Ik1hcmtlcl9ORUdBVElWRV9jODAwMDAiIHZpZXdCb3g9Ii03IC03IDEyIDE1IiBvcmllbnQ9ImF1dG8iIG1hcmtlckhlaWdodD0iOSIgbWFya2VyV2lkdGg9IjkiPgogICAgICA8cGF0aCBzdHJva2U9IiNjODAwMDAiIGZpbGw9IiNjODAwMDAiIGQ9Ik0gLTEgLTQgTCAtMSA0IEwgMSA0IEwgMSAtNCB6Ii8+CiAgICA8L21hcmtlcj4KICA8L2RlZnM+CiAgPHBhdGggY2xhc3M9ImVkZ2UgZWRnZV9ORUdBVElWRSIgbWFya2VyLWVuZD0idXJsKCNNYXJrZXJfTkVHQVRJVkVfYzgwMDAwKSIgZD0iTSAxNDguMCA1NC4wIEwgMTAyLjAgNjMuMCBMIDg5LjAgNjMuMCIvPgogIDxwYXRoIGNsYXNzPSJlZGdlIGVkZ2VfTkVHQVRJVkUiIG1hcmtlci1lbmQ9InVybCgjTWFya2VyX05FR0FUSVZFX2M4MDAwMCkiIGQ9Ik0gODguMCA0MS4wIEwgMTMzLjAgMzEuMCBMIDE0Ni4wIDMxLjAiLz4KICA8ZyBpZD0ieCIgY2xhc3M9Im5vZGUiPgogICAgPGVsbGlwc2UgaWQ9Inhfc2hhcGUiIGNsYXNzPSJzaGFwZSIgY3g9IjE3Mi41IiBjeT0iMzkuNSIgcng9IjIyLjUiIHJ5PSIxMi41Ii8+CiAgICA8dGV4dCAgaWQ9InhfdGV4dCIgeD0iMTcyIiB5PSI0MiIgdGV4dC1hbmNob3I9Im1pZGRsZSI+eDwvdGV4dD4KICA8L2c+CiAgPGcgaWQ9InkiIGNsYXNzPSJub2RlIj4KICAgIDxlbGxpcHNlIGlkPSJ5X3NoYXBlIiBjbGFzcz0ic2hhcGUiIGN4PSI2My41IiBjeT0iNTUuNSIgcng9IjIyLjUiIHJ5PSIxMi41Ii8+CiAgICA8dGV4dCAgaWQ9InlfdGV4dCIgeD0iNjMiIHk9IjU4IiB0ZXh0LWFuY2hvcj0ibWlkZGxlIj55PC90ZXh0PgogIDwvZz4KPC9zdmc+Cg==\">"
      ],
      "text/plain": [
       "<IPython.core.display.HTML object>"
      ]
     },
     "execution_count": 59,
     "metadata": {},
     "output_type": "execute_result"
    }
   ],
   "source": [
    "## Convert from biolqm to ginsim\n",
    "lrg = biolqm.to_ginsim(lqm)\n",
    "ginsim.show(lrg)"
   ]
  },
  {
   "cell_type": "code",
   "execution_count": 60,
   "id": "4a9e5d3d-7484-4535-9053-a05896d14ded",
   "metadata": {},
   "outputs": [
    {
     "name": "stdout",
     "output_type": "stream",
     "text": [
      "2 fixpoints\n"
     ]
    }
   ],
   "source": [
    "## Fixed points\n",
    "fps = biolqm.fixpoints(lqm)\n",
    "print(len(fps), \"fixpoints\")"
   ]
  },
  {
   "cell_type": "code",
   "execution_count": 61,
   "id": "15099b08-e109-4679-ad93-1507ab2567ed",
   "metadata": {},
   "outputs": [
    {
     "data": {
      "text/html": [
       "<img class=\"unconfined\" width=\"200px\" src=\"data:image/svg+xml;base64,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\">"
      ],
      "text/plain": [
       "<IPython.core.display.HTML object>"
      ]
     },
     "execution_count": 61,
     "metadata": {},
     "output_type": "execute_result"
    }
   ],
   "source": [
    "# First fixed point\n",
    "ginsim.show(lrg, fps[0])"
   ]
  },
  {
   "cell_type": "code",
   "execution_count": 62,
   "id": "d113c287-6200-4e43-9b09-30d768688b5f",
   "metadata": {},
   "outputs": [
    {
     "data": {
      "text/html": [
       "<img class=\"unconfined\" width=\"200px\" src=\"data:image/svg+xml;base64,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\">"
      ],
      "text/plain": [
       "<IPython.core.display.HTML object>"
      ]
     },
     "execution_count": 62,
     "metadata": {},
     "output_type": "execute_result"
    }
   ],
   "source": [
    "# Second fixed point\n",
    "ginsim.show(lrg, fps[1])"
   ]
  },
  {
   "cell_type": "code",
   "execution_count": 64,
   "id": "a74f5972-0349-46fd-bc10-9fa8f53f20a5",
   "metadata": {},
   "outputs": [
    {
     "data": {
      "text/plain": [
       "0"
      ]
     },
     "execution_count": 64,
     "metadata": {},
     "output_type": "execute_result"
    }
   ],
   "source": [
    "0"
   ]
  },
  {
   "cell_type": "code",
   "execution_count": 82,
   "id": "09f51250-ec43-4faa-8bf3-481fcef914dc",
   "metadata": {},
   "outputs": [
    {
     "ename": "AssertionError",
     "evalue": "",
     "output_type": "error",
     "traceback": [
      "\u001b[31m---------------------------------------------------------------------------\u001b[39m",
      "\u001b[31mAssertionError\u001b[39m                            Traceback (most recent call last)",
      "\u001b[36mCell\u001b[39m\u001b[36m \u001b[39m\u001b[32mIn[82]\u001b[39m\u001b[32m, line 1\u001b[39m\n\u001b[32m----> \u001b[39m\u001b[32m1\u001b[39m \u001b[43mginsim\u001b[49m\u001b[43m.\u001b[49m\u001b[43mload\u001b[49m\u001b[43m(\u001b[49m\u001b[33;43m\"\u001b[39;49m\u001b[33;43mlocal-notebooks/p53.net\u001b[39;49m\u001b[33;43m\"\u001b[39;49m\u001b[43m)\u001b[49m \n",
      "\u001b[36mFile \u001b[39m\u001b[32m/opt/conda/lib/python3.11/site-packages/ginsim/__init__.py:28\u001b[39m, in \u001b[36mload\u001b[39m\u001b[34m(filename, *args)\u001b[39m\n\u001b[32m     27\u001b[39m \u001b[38;5;28;01mdef\u001b[39;00m\u001b[38;5;250m \u001b[39m\u001b[34mload\u001b[39m(filename, *args):\n\u001b[32m---> \u001b[39m\u001b[32m28\u001b[39m     filename = \u001b[43mensure_localfile\u001b[49m\u001b[43m(\u001b[49m\u001b[43mfilename\u001b[49m\u001b[43m)\u001b[49m\n\u001b[32m     29\u001b[39m     obj = japi.gs.load(filename, *args)\n\u001b[32m     30\u001b[39m     \u001b[38;5;28;01massert\u001b[39;00m obj \u001b[38;5;129;01mis\u001b[39;00m \u001b[38;5;129;01mnot\u001b[39;00m \u001b[38;5;28;01mNone\u001b[39;00m, \u001b[33m\"\u001b[39m\u001b[33mError while loading model\u001b[39m\u001b[33m\"\u001b[39m\n",
      "\u001b[36mFile \u001b[39m\u001b[32m/opt/conda/lib/python3.11/site-packages/colomoto_jupyter/io.py:47\u001b[39m, in \u001b[36mensure_localfile\u001b[39m\u001b[34m(filename)\u001b[39m\n\u001b[32m     45\u001b[39m     url = uri.geturl()\n\u001b[32m     46\u001b[39m     filename = auto_download(url, bname)\n\u001b[32m---> \u001b[39m\u001b[32m47\u001b[39m \u001b[38;5;28;01massert\u001b[39;00m os.path.exists(filename)\n\u001b[32m     48\u001b[39m \u001b[38;5;28;01mreturn\u001b[39;00m filename\n",
      "\u001b[31mAssertionError\u001b[39m: "
     ]
    }
   ],
   "source": [
    "ginsim."
   ]
  },
  {
   "cell_type": "code",
   "execution_count": 83,
   "id": "a077b1ae-b9e1-453e-b6a0-8d9751da0a44",
   "metadata": {},
   "outputs": [
    {
     "ename": "SyntaxError",
     "evalue": "invalid syntax (3387726978.py, line 2)",
     "output_type": "error",
     "traceback": [
      "  \u001b[36mCell\u001b[39m\u001b[36m \u001b[39m\u001b[32mIn[83]\u001b[39m\u001b[32m, line 2\u001b[39m\n\u001b[31m    \u001b[39m\u001b[31m0 , | , 1 , 1 , | , 2\u001b[39m\n        ^\n\u001b[31mSyntaxError\u001b[39m\u001b[31m:\u001b[39m invalid syntax\n"
     ]
    }
   ],
   "source": [
    "x : lx+ly, tx->x, lx+uy, ly+ux, tx->y, ux+uy\n",
    "    0 , | , 1 , 1 , | , 2"
   ]
  },
  {
   "cell_type": "markdown",
   "id": "9eb9dc25-434f-4442-a908-8de3d069cff8",
   "metadata": {},
   "source": [
    "(x,y) -> x\n",
    "(x,y) -> y\n",
    "\n",
    "    \n",
    "   a01 a11   -------- > (a01,b01) (a11,b11)\n",
    "txx \n",
    "   a00 a10   -------- > (a00,b01) (a10,b11) \n",
    "\n",
    "\n",
    "   b01 b11   -------- > (a00,b01) (a10,b11)\n",
    "txy \n",
    "   b00 b10   -------- > (a00,b00) (a10,b10) \n",
    "  "
   ]
  },
  {
   "cell_type": "code",
   "execution_count": null,
   "id": "62ff1075-b3f8-4364-a771-31c211c18d57",
   "metadata": {},
   "outputs": [],
   "source": [
    "x y\n",
    "00 11 01\n",
    "01 10 01\n",
    "10 01 01\n",
    "11 00 01"
   ]
  }
 ],
 "metadata": {
  "kernelspec": {
   "display_name": ".venv",
   "language": "python",
   "name": "python3"
  },
  "language_info": {
   "codemirror_mode": {
    "name": "ipython",
    "version": 3
   },
   "file_extension": ".py",
   "mimetype": "text/x-python",
   "name": "python",
   "nbconvert_exporter": "python",
   "pygments_lexer": "ipython3",
   "version": "3.13.3"
  }
 },
 "nbformat": 4,
 "nbformat_minor": 5
}
